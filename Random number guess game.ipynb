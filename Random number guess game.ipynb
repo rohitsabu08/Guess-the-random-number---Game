{
 "cells": [
  {
   "cell_type": "code",
   "execution_count": 1,
   "metadata": {},
   "outputs": [],
   "source": [
    "def game(accbal):\n",
    "    import random\n",
    "    x=random.randint(0,9)\n",
    "    #x=4\n",
    "    b=0\n",
    "    i=0   \n",
    "    while i<3:\n",
    "        gnum=int(input(\"Guess the number: \"))\n",
    "        i=i+1\n",
    "        if(i==3):\n",
    "            print(\"Sorry you lost 500 Rupees!\")\n",
    "            b=accbal-500\n",
    "            break\n",
    "        if (gnum) == x:\n",
    "            print(\"You got it right! Congo!\")\n",
    "            if i==1:\n",
    "                print(\"You have just won Rs. 5,000\")\n",
    "                b=5000+accbal\n",
    "            elif i==2:\n",
    "                print(\"You have just won Rs. 1,000\")\n",
    "                b=1000+accbal\n",
    "                \n",
    "            elif i==3:\n",
    "                print(\"No rewards!\")\n",
    "                b=accbal\n",
    "                \n",
    "            break\n",
    "        elif gnum > x:\n",
    "            print(\"Too high\")\n",
    "\n",
    "        elif gnum < x:\n",
    "            print(\"Too low\")  \n",
    "    return(b)            "
   ]
  },
  {
   "cell_type": "code",
   "execution_count": 4,
   "metadata": {},
   "outputs": [
    {
     "name": "stdout",
     "output_type": "stream",
     "text": [
      "Your Game account balance is:  900\n",
      "Your Wallet balance is:  5000\n",
      "Pay Rs.500 to play the game. Do you want to play (yes / no) : yes\n",
      "Now, you are ready to play the game...!! Have fun\n",
      "Guess the number: 4\n",
      "You got it right! Congo!\n",
      "You have just won Rs. 5,000\n",
      "Your account balance is:  5900\n",
      "Your e-wallet balance is:  5000\n",
      "Pay Rs.500 to play the game. Do you want to play (yes / no) : yes\n",
      "Now, you are ready to play the game...!! Have fun\n",
      "Guess the number: 5\n",
      "Too high\n",
      "Guess the number: 7\n",
      "Too high\n",
      "Guess the number: 8\n",
      "Sorry you lost 500 Rupees!\n",
      "Your account balance is:  5400\n",
      "Your e-wallet balance is:  5000\n",
      "Pay Rs.500 to play the game. Do you want to play (yes / no) : no\n",
      "Have a wonderful day!\n",
      "Your account balance is:  5400\n"
     ]
    }
   ],
   "source": [
    "accbal=900\n",
    "walletbal=5000\n",
    "print(\"Your Game account balance is: \",accbal )\n",
    "print(\"Your Wallet balance is: \",walletbal )\n",
    "while True:        \n",
    "        amt_wd=(input(\"Pay Rs.500 to play the game. Do you want to play (yes / no) : \"))\n",
    "        \n",
    "        if amt_wd ==\"yes\":\n",
    "            \n",
    "            if accbal<500:\n",
    "                \n",
    "                addmoney=int(input(\"You have no sufficeint balance \\n Please enter the amount to recharge : \"))\n",
    "                accbal = accbal  + addmoney\n",
    "                walletbal = walletbal - addmoney   \n",
    "                addmoney=0\n",
    "                \n",
    "            elif accbal>500:\n",
    "                print(\"Now, you are ready to play the game...!! Have fun\")\n",
    "                #accbal = accbal-500\n",
    "                accbal = game(accbal)\n",
    "                            \n",
    "        elif amt_wd == \"no\":  \n",
    "            \n",
    "            print(\"Have a wonderful day!\")\n",
    "            print(\"Your account balance is: \",accbal )\n",
    "            break\n",
    "            \n",
    "        else:\n",
    "            print(\"Wrong Input\")\n",
    "            print(\"Have a wonderful day!\")\n",
    "            \n",
    "            break    \n",
    "                \n",
    "         \n",
    "        print(\"Your account balance is: \",accbal )\n",
    "        print(\"Your e-wallet balance is: \",walletbal )\n",
    "        "
   ]
  },
  {
   "cell_type": "code",
   "execution_count": null,
   "metadata": {},
   "outputs": [],
   "source": []
  },
  {
   "cell_type": "code",
   "execution_count": null,
   "metadata": {},
   "outputs": [],
   "source": []
  },
  {
   "cell_type": "code",
   "execution_count": null,
   "metadata": {},
   "outputs": [],
   "source": []
  }
 ],
 "metadata": {
  "kernelspec": {
   "display_name": "Python 3",
   "language": "python",
   "name": "python3"
  },
  "language_info": {
   "codemirror_mode": {
    "name": "ipython",
    "version": 3
   },
   "file_extension": ".py",
   "mimetype": "text/x-python",
   "name": "python",
   "nbconvert_exporter": "python",
   "pygments_lexer": "ipython3",
   "version": "3.8.5"
  }
 },
 "nbformat": 4,
 "nbformat_minor": 4
}
